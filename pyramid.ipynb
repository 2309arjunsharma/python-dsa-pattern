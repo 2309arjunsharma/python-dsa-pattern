{
 "cells": [
  {
   "cell_type": "code",
   "execution_count": null,
   "metadata": {},
   "outputs": [],
   "source": [
    "def generate_pyramid(n):\n",
    "    \"\"\"\n",
    "    Function to return a pyramid pattern of '*' of side n as a list of strings.\n",
    "    \n",
    "    Parameters:\n",
    "    n (int): The number of rows in the pyramid.\n",
    "    \n",
    "    Returns:\n",
    "    list: A list of strings where each string represents a row of the pyramid.\n",
    "    \"\"\"\n",
    "    # Your code here\n",
    "    pyramid=[]\n",
    "    for i in range(1,n+1):\n",
    "        pyramid.append(\" \"*(n-i)+\"*\"*((2*i)-1)+\" \"*(n-i))\n",
    "            \n",
    "    return pyramid\n",
    "\n",
    "\n",
    "pyr=generate_pyramid(9)\n",
    "for j in range(len(pyr)):   \n",
    "    print(pyr[j],\"\\n\")"
   ]
  }
 ],
 "metadata": {
  "kernelspec": {
   "display_name": "base",
   "language": "python",
   "name": "python3"
  },
  "language_info": {
   "name": "python",
   "version": "3.12.4"
  }
 },
 "nbformat": 4,
 "nbformat_minor": 2
}
